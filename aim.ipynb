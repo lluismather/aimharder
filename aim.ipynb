{
 "cells": [
  {
   "cell_type": "code",
   "execution_count": 32,
   "metadata": {},
   "outputs": [],
   "source": [
    "# setup for jupyter and django\n",
    "import os\n",
    "import django\n",
    "\n",
    "os.environ.setdefault('DJANGO_SETTINGS_MODULE', 'aimharder.settings')\n",
    "os.environ[\"DJANGO_ALLOW_ASYNC_UNSAFE\"] = \"true\"\n",
    "django.setup()\n"
   ]
  },
  {
   "cell_type": "code",
   "execution_count": 33,
   "metadata": {},
   "outputs": [],
   "source": [
    "# remaining libraries \n",
    "\n",
    "from datetime import datetime, timedelta\n",
    "from requests import Session\n",
    "from bookings.models import Booking\n"
   ]
  },
  {
   "cell_type": "code",
   "execution_count": 55,
   "metadata": {},
   "outputs": [],
   "source": [
    "# environment\n",
    "\n",
    "BOX_ID = 8244\n",
    "BOX_NAME = 'crossfitgrau'\n",
    "LOGIN_ENDPOINT = 'https://aimharder.com/login'\n",
    "CLASS_API_ENDPOINT = f'https://{BOX_NAME}.aimharder.com/api/bookings'\n",
    "BOOKINGS_API_ENDPOINT = f'https://{BOX_NAME}.aimharder.com/api/book'\n"
   ]
  },
  {
   "cell_type": "code",
   "execution_count": 50,
   "metadata": {},
   "outputs": [],
   "source": [
    "# log in function\n",
    "\n",
    "def login(username, password):\n",
    "    data = {\n",
    "        'mail': username,\n",
    "        'pw': password,\n",
    "        'login': 'Log in'\n",
    "    }\n",
    "    session = Session()\n",
    "    response = session.post(\n",
    "        LOGIN_ENDPOINT,\n",
    "        data = data\n",
    "    )\n",
    "    return [session, response]\n"
   ]
  },
  {
   "cell_type": "code",
   "execution_count": 51,
   "metadata": {},
   "outputs": [],
   "source": [
    "# get classes \n",
    "\n",
    "def get_classes(session, date):\n",
    "    class_list = session.get(\n",
    "        CLASS_API_ENDPOINT,\n",
    "        params = {\n",
    "            'day': date,\n",
    "            'family_id': '',\n",
    "            'box': BOX_ID,\n",
    "        }\n",
    "    )\n",
    "    return class_list.json()\n"
   ]
  },
  {
   "cell_type": "code",
   "execution_count": 52,
   "metadata": {},
   "outputs": [],
   "source": [
    "# book the class\n",
    "\n",
    "def book_class(session, class_id):\n",
    "    data = {\n",
    "        'id': class_id,\n",
    "        'box': BOX_ID,\n",
    "        'family_id': '',\n",
    "        'insist': 0,\n",
    "    }\n",
    "    response = session.post(\n",
    "        BOOKINGS_API_ENDPOINT,\n",
    "        data = data\n",
    "    )\n",
    "    return response\n"
   ]
  },
  {
   "cell_type": "code",
   "execution_count": 53,
   "metadata": {},
   "outputs": [],
   "source": [
    "# all bookings for tomorrow from db\n",
    "\n",
    "tomorrow = datetime.now() + timedelta(days=1)\n",
    "bookings = Booking.objects.filter(date=tomorrow)\n"
   ]
  },
  {
   "cell_type": "code",
   "execution_count": 58,
   "metadata": {},
   "outputs": [],
   "source": [
    "for booking in bookings:\n",
    "\n",
    "    # log in\n",
    "    session, response = login(booking.user.email, booking.user.password)\n",
    "\n",
    "    # if login successful\n",
    "    if response.status_code == 200:\n",
    "        \n",
    "        # get classes\n",
    "        class_list = get_classes(session, tomorrow.strftime(\"%Y%m%d\"))\n",
    "\n",
    "        # if there are classes\n",
    "        if class_list['bookings']:\n",
    "\n",
    "            # find the class\n",
    "            workout = [\n",
    "                lesson for lesson in class_list['bookings'] \n",
    "                if lesson['timeid'] == f'{booking.time.strftime(\"%H%M\")}_60' \n",
    "                    and lesson['className'] == booking.type\n",
    "            ][0]\n",
    "\n",
    "            # book the class\n",
    "            response = book_class(session, workout['id'])\n"
   ]
  },
  {
   "cell_type": "code",
   "execution_count": 60,
   "metadata": {},
   "outputs": [
    {
     "data": {
      "text/plain": [
       "b'{\"bookState\":-2}'"
      ]
     },
     "execution_count": 60,
     "metadata": {},
     "output_type": "execute_result"
    }
   ],
   "source": [
    "\n",
    "response.content"
   ]
  },
  {
   "cell_type": "code",
   "execution_count": null,
   "metadata": {},
   "outputs": [],
   "source": []
  }
 ],
 "metadata": {
  "kernelspec": {
   "display_name": "Python 3",
   "language": "python",
   "name": "python3"
  },
  "language_info": {
   "codemirror_mode": {
    "name": "ipython",
    "version": 3
   },
   "file_extension": ".py",
   "mimetype": "text/x-python",
   "name": "python",
   "nbconvert_exporter": "python",
   "pygments_lexer": "ipython3",
   "version": "3.11.1"
  },
  "orig_nbformat": 4
 },
 "nbformat": 4,
 "nbformat_minor": 2
}
